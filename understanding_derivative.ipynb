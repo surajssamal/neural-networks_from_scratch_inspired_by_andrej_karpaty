{
 "cells": [
  {
   "cell_type": "code",
   "execution_count": 1,
   "id": "e8684e98",
   "metadata": {},
   "outputs": [],
   "source": [
    "import matplotlib.pyplot as plt\n",
    "import numpy as np\n",
    "import math\n",
    "%matplotlib inline"
   ]
  },
  {
   "cell_type": "code",
   "execution_count": 2,
   "id": "130dccc3",
   "metadata": {},
   "outputs": [],
   "source": [
    "def f(x):\n",
    "    return 3*x**2 - 4*x+5"
   ]
  },
  {
   "cell_type": "code",
   "execution_count": 3,
   "id": "b40e18e0",
   "metadata": {},
   "outputs": [
    {
     "data": {
      "text/plain": [
       "20.0"
      ]
     },
     "execution_count": 3,
     "metadata": {},
     "output_type": "execute_result"
    }
   ],
   "source": [
    "f(3.0)"
   ]
  },
  {
   "cell_type": "code",
   "execution_count": 4,
   "id": "38763f64",
   "metadata": {},
   "outputs": [
    {
     "data": {
      "text/plain": [
       "array([3.  , 3.25, 3.5 , 3.75, 4.  , 4.25, 4.5 , 4.75, 5.  , 5.25, 5.5 ,\n",
       "       5.75, 6.  , 6.25, 6.5 , 6.75, 7.  , 7.25, 7.5 , 7.75, 8.  , 8.25,\n",
       "       8.5 , 8.75, 9.  , 9.25, 9.5 , 9.75])"
      ]
     },
     "execution_count": 4,
     "metadata": {},
     "output_type": "execute_result"
    }
   ],
   "source": [
    "x = np.arange(3.0,10.0,0.25)\n",
    "y =f(x)\n",
    "x"
   ]
  },
  {
   "cell_type": "code",
   "execution_count": 5,
   "id": "49aae213",
   "metadata": {},
   "outputs": [
    {
     "data": {
      "text/plain": [
       "[<matplotlib.lines.Line2D at 0x7f09a84a8940>]"
      ]
     },
     "execution_count": 5,
     "metadata": {},
     "output_type": "execute_result"
    },
    {
     "data": {
      "image/png": "[encoded data removed]",
      "text/plain": [
       "<Figure size 640x480 with 1 Axes>"
      ]
     },
     "metadata": {},
     "output_type": "display_data"
    }
   ],
   "source": [
    "plt.plot(x,y)"
   ]
  },
  {
   "cell_type": "code",
   "execution_count": 6,
   "id": "467dc138",
   "metadata": {},
   "outputs": [
    {
     "data": {
      "text/plain": [
       "array([14.00000116, 15.49999951, 17.00000496, 18.50000331, 20.00000165,\n",
       "       21.50000711, 22.99999835, 24.50001091, 25.99999505, 27.5000076 ,\n",
       "       29.00000595, 30.5000043 , 32.00000265, 33.500001  , 35.00001355,\n",
       "       36.49999769, 38.00001025, 39.49998018, 41.00002116, 42.50000529,\n",
       "       43.99998943, 45.49997357, 47.00001455, 48.49999868, 50.00003966,\n",
       "       51.49996696, 52.99995109, 54.49999207])"
      ]
     },
     "execution_count": 6,
     "metadata": {},
     "output_type": "execute_result"
    }
   ],
   "source": [
    "\n",
    "#now to find the gradient of the function we will have to understand what is derivative from a root level\n",
    "#so this is derivative (f(x+h)-f(x))/h we find the rate of chnage of each point insted of finding the rate of change function\n",
    "h=0.000000001\n",
    "l  =(f(x+h)-f(x))/h\n",
    "l"
   ]
  },
  {
   "cell_type": "code",
   "execution_count": 16,
   "id": "b8747a84",
   "metadata": {},
   "outputs": [
    {
     "data": {
      "text/plain": [
       "-171986.19999999998"
      ]
     },
     "execution_count": 16,
     "metadata": {},
     "output_type": "execute_result"
    }
   ],
   "source": [
    "# in simple words \n",
    "a= 3.0\n",
    "b=3.4\n",
    "c=7\n",
    "h =0.0001\n",
    "d = a*b+c\n",
    "# now if we check the rate of change of d w.r.t a then \n",
    "a+=h\n",
    "d_a = a*b+c\n",
    "d-d_a/h\n"
   ]
  },
  {
   "cell_type": "code",
   "execution_count": 17,
   "id": "8c44bdc7",
   "metadata": {},
   "outputs": [
    {
     "data": {
      "text/plain": [
       "-171988.7997"
      ]
     },
     "execution_count": 17,
     "metadata": {},
     "output_type": "execute_result"
    }
   ],
   "source": [
    "# and w.r.t b\n",
    "a= 3.0\n",
    "b=3.4\n",
    "c=7\n",
    "b+= h\n",
    "d = a*b+c\n",
    "# now if we check the rate of change of d w.r.t a then \n",
    "b+=h\n",
    "d_b = a*b+c\n",
    "d-d_b/h"
   ]
  },
  {
   "cell_type": "code",
   "execution_count": 58,
   "id": "032d4d39",
   "metadata": {},
   "outputs": [
    {
     "data": {
      "text/plain": [
       "value(data=9520)"
      ]
     },
     "execution_count": 58,
     "metadata": {},
     "output_type": "execute_result"
    }
   ],
   "source": [
    "class value:\n",
    "    def __init__(self,data,_children=(),_op=\"\",label=\"\"):\n",
    "        self.data = data\n",
    "        self._prev = set(_children) \n",
    "        self._op = _op\n",
    "        self.label=label\n",
    "    def __repr__(self):\n",
    "        return f\"value(data={self.data})\"\n",
    "    def __add__(self,other):\n",
    "        return value(self.data+other.data,(self,other),\"+\")\n",
    "    def __mul__(self,other):\n",
    "        return value(self.data*other.data,(self,other,\"*\"))\n",
    "\n",
    "a = value(10,label=\"a\")\n",
    "b = value(20,label=\"b\")\n",
    "c = value(80,label=\"c\")\n",
    "e=a*b; e.label=\"e\"\n",
    "d =e+c;d.label=\"d\"\n",
    "f = value(34,label=\"f\")\n",
    "L = d*f;L.label=\"L\"\n",
    "L"
   ]
  },
  {
   "cell_type": "code",
   "execution_count": 59,
   "id": "03a3642f",
   "metadata": {},
   "outputs": [],
   "source": [
    "from graphviz import Digraph\n",
    "def trace(root):\n",
    "    nodes, edges = set(), set()\n",
    "    \n",
    "    def build(v):\n",
    "        if v not in nodes:\n",
    "            nodes.add(v)\n",
    "            for child in v._prev:\n",
    "                if isinstance(child, value):  # Check if the child is an instance of the value class\n",
    "                    edges.add((child, v))\n",
    "                    build(child)\n",
    "    \n",
    "    build(root)\n",
    "    return nodes, edges\n",
    "\n",
    "def draw_dot(root):\n",
    "    dot = Digraph(format='svg', graph_attr={\"rankdir\": 'LR'})\n",
    "    nodes, edges = trace(root)\n",
    "    \n",
    "    for n in nodes:\n",
    "        uid = str(id(n))\n",
    "        dot.node(name=uid, label=\"{ %s| data %.4f}\" % (n.label,n.data,), shape=\"record\")\n",
    "        if n._op:\n",
    "            dot.node(name=uid + n._op, label=n._op)\n",
    "            dot.edge(uid + n._op, uid)\n",
    "    \n",
    "    for n1, n2 in edges:\n",
    "        dot.edge(str(id(n1)), str(id(n2)) + n2._op)\n",
    "    \n",
    "    return dot"
   ]
  },
  {
   "cell_type": "code",
   "execution_count": 60,
   "id": "e2319d1a",
   "metadata": {
    "scrolled": true
   },
   "outputs": [
    {
     "data": {
      "image/svg+xml": [
       "<?xml version=\"1.0\" encoding=\"UTF-8\" standalone=\"no\"?>\n",
       "<!DOCTYPE svg PUBLIC \"-//W3C//DTD SVG 1.1//EN\"\n",
       " \"http://www.w3.org/Graphics/SVG/1.1/DTD/svg11.dtd\">\n",
       "<!-- Generated by graphviz version 2.43.0 (0)\n",
       " -->\n",
       "<!-- Title: %3 Pages: 1 -->\n",
       "<svg width=\"789pt\" height=\"154pt\"\n",
       " viewBox=\"0.00 0.00 789.00 154.00\" xmlns=\"http://www.w3.org/2000/svg\" xmlns:xlink=\"http://www.w3.org/1999/xlink\">\n",
       "<g id=\"graph0\" class=\"graph\" transform=\"scale(1 1) rotate(0) translate(4 150)\">\n",
       "<title>%3</title>\n",
       "<polygon fill=\"white\" stroke=\"transparent\" points=\"-4,4 -4,-150 785,-150 785,4 -4,4\"/>\n",
       "<!-- 139679403134160 -->\n",
       "<g id=\"node1\" class=\"node\">\n",
       "<title>139679403134160</title>\n",
       "<polygon fill=\"none\" stroke=\"black\" points=\"173,-27.5 173,-63.5 318,-63.5 318,-27.5 173,-27.5\"/>\n",
       "<text text-anchor=\"middle\" x=\"185.5\" y=\"-41.8\" font-family=\"Times,serif\" font-size=\"14.00\">e</text>\n",
       "<polyline fill=\"none\" stroke=\"black\" points=\"198,-27.5 198,-63.5 \"/>\n",
       "<text text-anchor=\"middle\" x=\"258\" y=\"-41.8\" font-family=\"Times,serif\" font-size=\"14.00\">data 200.0000</text>\n",
       "</g>\n",
       "<!-- 139679403144672+ -->\n",
       "<g id=\"node8\" class=\"node\">\n",
       "<title>139679403144672+</title>\n",
       "<ellipse fill=\"none\" stroke=\"black\" cx=\"381\" cy=\"-72.5\" rx=\"27\" ry=\"18\"/>\n",
       "<text text-anchor=\"middle\" x=\"381\" y=\"-68.8\" font-family=\"Times,serif\" font-size=\"14.00\">+</text>\n",
       "</g>\n",
       "<!-- 139679403134160&#45;&gt;139679403144672+ -->\n",
       "<g id=\"edge5\" class=\"edge\">\n",
       "<title>139679403134160&#45;&gt;139679403144672+</title>\n",
       "<path fill=\"none\" stroke=\"black\" d=\"M318.33,-60.03C327.62,-61.91 336.77,-63.76 345.07,-65.44\"/>\n",
       "<polygon fill=\"black\" stroke=\"black\" points=\"344.57,-68.91 355.07,-67.46 345.96,-62.04 344.57,-68.91\"/>\n",
       "</g>\n",
       "<!-- 139679403134208 -->\n",
       "<g id=\"node2\" class=\"node\">\n",
       "<title>139679403134208</title>\n",
       "<polygon fill=\"none\" stroke=\"black\" points=\"178,-82.5 178,-118.5 313,-118.5 313,-82.5 178,-82.5\"/>\n",
       "<text text-anchor=\"middle\" x=\"190\" y=\"-96.8\" font-family=\"Times,serif\" font-size=\"14.00\">c</text>\n",
       "<polyline fill=\"none\" stroke=\"black\" points=\"202,-82.5 202,-118.5 \"/>\n",
       "<text text-anchor=\"middle\" x=\"257.5\" y=\"-96.8\" font-family=\"Times,serif\" font-size=\"14.00\">data 80.0000</text>\n",
       "</g>\n",
       "<!-- 139679403134208&#45;&gt;139679403144672+ -->\n",
       "<g id=\"edge6\" class=\"edge\">\n",
       "<title>139679403134208&#45;&gt;139679403144672+</title>\n",
       "<path fill=\"none\" stroke=\"black\" d=\"M313.25,-86.5C324.16,-84.21 335.08,-81.92 344.83,-79.88\"/>\n",
       "<polygon fill=\"black\" stroke=\"black\" points=\"345.82,-83.24 354.89,-77.77 344.38,-76.39 345.82,-83.24\"/>\n",
       "</g>\n",
       "<!-- 139679403147024 -->\n",
       "<g id=\"node3\" class=\"node\">\n",
       "<title>139679403147024</title>\n",
       "<polygon fill=\"none\" stroke=\"black\" points=\"626,-81.5 626,-117.5 781,-117.5 781,-81.5 626,-81.5\"/>\n",
       "<text text-anchor=\"middle\" x=\"639\" y=\"-95.8\" font-family=\"Times,serif\" font-size=\"14.00\">L</text>\n",
       "<polyline fill=\"none\" stroke=\"black\" points=\"652,-81.5 652,-117.5 \"/>\n",
       "<text text-anchor=\"middle\" x=\"716.5\" y=\"-95.8\" font-family=\"Times,serif\" font-size=\"14.00\">data 9520.0000</text>\n",
       "</g>\n",
       "<!-- 139679403144528 -->\n",
       "<g id=\"node4\" class=\"node\">\n",
       "<title>139679403144528</title>\n",
       "<polygon fill=\"none\" stroke=\"black\" points=\"450.5,-109.5 450.5,-145.5 583.5,-145.5 583.5,-109.5 450.5,-109.5\"/>\n",
       "<text text-anchor=\"middle\" x=\"461.5\" y=\"-123.8\" font-family=\"Times,serif\" font-size=\"14.00\">f</text>\n",
       "<polyline fill=\"none\" stroke=\"black\" points=\"472.5,-109.5 472.5,-145.5 \"/>\n",
       "<text text-anchor=\"middle\" x=\"528\" y=\"-123.8\" font-family=\"Times,serif\" font-size=\"14.00\">data 34.0000</text>\n",
       "</g>\n",
       "<!-- 139679403144528&#45;&gt;139679403147024 -->\n",
       "<g id=\"edge3\" class=\"edge\">\n",
       "<title>139679403144528&#45;&gt;139679403147024</title>\n",
       "<path fill=\"none\" stroke=\"black\" d=\"M583.57,-117.55C594.03,-115.96 605,-114.3 615.87,-112.65\"/>\n",
       "<polygon fill=\"black\" stroke=\"black\" points=\"616.44,-116.1 625.8,-111.14 615.39,-109.18 616.44,-116.1\"/>\n",
       "</g>\n",
       "<!-- 139679403142512 -->\n",
       "<g id=\"node5\" class=\"node\">\n",
       "<title>139679403142512</title>\n",
       "<polygon fill=\"none\" stroke=\"black\" points=\"0.5,-55.5 0.5,-91.5 136.5,-91.5 136.5,-55.5 0.5,-55.5\"/>\n",
       "<text text-anchor=\"middle\" x=\"13\" y=\"-69.8\" font-family=\"Times,serif\" font-size=\"14.00\">a</text>\n",
       "<polyline fill=\"none\" stroke=\"black\" points=\"25.5,-55.5 25.5,-91.5 \"/>\n",
       "<text text-anchor=\"middle\" x=\"81\" y=\"-69.8\" font-family=\"Times,serif\" font-size=\"14.00\">data 10.0000</text>\n",
       "</g>\n",
       "<!-- 139679403142512&#45;&gt;139679403134160 -->\n",
       "<g id=\"edge2\" class=\"edge\">\n",
       "<title>139679403142512&#45;&gt;139679403134160</title>\n",
       "<path fill=\"none\" stroke=\"black\" d=\"M136.66,-62.75C145.27,-61.38 154.17,-59.95 162.98,-58.54\"/>\n",
       "<polygon fill=\"black\" stroke=\"black\" points=\"163.55,-62 172.87,-56.96 162.44,-55.08 163.55,-62\"/>\n",
       "</g>\n",
       "<!-- 139679403142608 -->\n",
       "<g id=\"node6\" class=\"node\">\n",
       "<title>139679403142608</title>\n",
       "<polygon fill=\"none\" stroke=\"black\" points=\"0,-0.5 0,-36.5 137,-36.5 137,-0.5 0,-0.5\"/>\n",
       "<text text-anchor=\"middle\" x=\"13\" y=\"-14.8\" font-family=\"Times,serif\" font-size=\"14.00\">b</text>\n",
       "<polyline fill=\"none\" stroke=\"black\" points=\"26,-0.5 26,-36.5 \"/>\n",
       "<text text-anchor=\"middle\" x=\"81.5\" y=\"-14.8\" font-family=\"Times,serif\" font-size=\"14.00\">data 20.0000</text>\n",
       "</g>\n",
       "<!-- 139679403142608&#45;&gt;139679403134160 -->\n",
       "<g id=\"edge4\" class=\"edge\">\n",
       "<title>139679403142608&#45;&gt;139679403134160</title>\n",
       "<path fill=\"none\" stroke=\"black\" d=\"M137.16,-28.94C145.59,-30.24 154.29,-31.58 162.9,-32.91\"/>\n",
       "<polygon fill=\"black\" stroke=\"black\" points=\"162.55,-36.4 172.96,-34.46 163.61,-29.48 162.55,-36.4\"/>\n",
       "</g>\n",
       "<!-- 139679403144672 -->\n",
       "<g id=\"node7\" class=\"node\">\n",
       "<title>139679403144672</title>\n",
       "<polygon fill=\"none\" stroke=\"black\" points=\"444,-54.5 444,-90.5 590,-90.5 590,-54.5 444,-54.5\"/>\n",
       "<text text-anchor=\"middle\" x=\"457\" y=\"-68.8\" font-family=\"Times,serif\" font-size=\"14.00\">d</text>\n",
       "<polyline fill=\"none\" stroke=\"black\" points=\"470,-54.5 470,-90.5 \"/>\n",
       "<text text-anchor=\"middle\" x=\"530\" y=\"-68.8\" font-family=\"Times,serif\" font-size=\"14.00\">data 280.0000</text>\n",
       "</g>\n",
       "<!-- 139679403144672&#45;&gt;139679403147024 -->\n",
       "<g id=\"edge7\" class=\"edge\">\n",
       "<title>139679403144672&#45;&gt;139679403147024</title>\n",
       "<path fill=\"none\" stroke=\"black\" d=\"M590.13,-83.05C598.55,-84.29 607.21,-85.56 615.81,-86.81\"/>\n",
       "<polygon fill=\"black\" stroke=\"black\" points=\"615.45,-90.3 625.86,-88.28 616.47,-83.37 615.45,-90.3\"/>\n",
       "</g>\n",
       "<!-- 139679403144672+&#45;&gt;139679403144672 -->\n",
       "<g id=\"edge1\" class=\"edge\">\n",
       "<title>139679403144672+&#45;&gt;139679403144672</title>\n",
       "<path fill=\"none\" stroke=\"black\" d=\"M408.15,-72.5C415.82,-72.5 424.63,-72.5 433.85,-72.5\"/>\n",
       "<polygon fill=\"black\" stroke=\"black\" points=\"433.98,-76 443.98,-72.5 433.98,-69 433.98,-76\"/>\n",
       "</g>\n",
       "</g>\n",
       "</svg>\n"
      ],
      "text/plain": [
       "<graphviz.graphs.Digraph at 0x7f09a53f7a90>"
      ]
     },
     "execution_count": 60,
     "metadata": {},
     "output_type": "execute_result"
    }
   ],
   "source": [
    "draw_dot(L)"
   ]
  },
  {
   "cell_type": "code",
   "execution_count": null,
   "id": "74676497",
   "metadata": {},
   "outputs": [],
   "source": [
    "  "
   ]
  }
 ],
 "metadata": {
  "kernelspec": {
   "display_name": "Python 3 (ipykernel)",
   "language": "python",
   "name": "python3"
  },
  "language_info": {
   "codemirror_mode": {
    "name": "ipython",
    "version": 3
   },
   "file_extension": ".py",
   "mimetype": "text/x-python",
   "name": "python",
   "nbconvert_exporter": "python",
   "pygments_lexer": "ipython3",
   "version": "3.10.12"
  }
 },
 "nbformat": 4,
 "nbformat_minor": 5
}
