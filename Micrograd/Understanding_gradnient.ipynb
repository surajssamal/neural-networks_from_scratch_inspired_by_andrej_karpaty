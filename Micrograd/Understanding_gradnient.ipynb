{
 "cells": [
  {
   "cell_type": "markdown",
   "id": "361d7966",
   "metadata": {},
   "source": [
    "## Understadnig difference b/w derivative and gradient"
   ]
  },
  {
   "cell_type": "code",
   "execution_count": 5,
   "id": "d0e6c166",
   "metadata": {},
   "outputs": [],
   "source": [
    "# so derivative is the function of the rate of change and gradient is the amount of rate of chnage don't\n",
    "#worry im here to explain"
   ]
  },
  {
   "cell_type": "code",
   "execution_count": 6,
   "id": "7378c9d3",
   "metadata": {},
   "outputs": [],
   "source": [
    "import matplotlib.pyplot as plt\n",
    "from graphviz import Digraph"
   ]
  },
  {
   "cell_type": "code",
   "execution_count": 7,
   "id": "8cc63dd1",
   "metadata": {},
   "outputs": [],
   "source": [
    "class value: # first we have to inizilize a class which will turn the variable or numbers into an object so that we can do chnages to them\n",
    "    def __init__(self,data,_children=(),_op=\"\",lable=\"\"): #dat= the data,,_op= operation,lable = lable\n",
    "        self.data = data\n",
    "        self._op= _op\n",
    "        self.lable = lable\n",
    "        self._prev = set(_children)\n",
    "        \n",
    "    def __repr__(self): # returns just the string \n",
    "        return f\"{self.data}\"\n",
    "    \n",
    "    def __add__(self,other): #1. taking the self 2. taking the other objects when we initialize\n",
    "        other = other if isinstance(other,value) else value(other) # used in the situation where the input is object and int like value(30) + 3 so that it turn it into value(int)\n",
    "        out = value(self.data+other.data,(self,other),\"+\")\n",
    "        return out\n",
    "    \n",
    "    def __neg__(self):# the \"-\" symbol has to many meaning and is called neg \"negation\" it does't actually subtract to make it subtract we'll have to take a clever approach\n",
    "        self.data *-1 # we'll turn it to \"-ve \" and then use the + - = - method\n",
    "        \n",
    "    def __sub__(self,other): # this is where we'll do the subtraction\n",
    "        return self +(-other.data)\n",
    "    \n",
    "    def __mul__(self,other):\n",
    "        other = other = other if isinstance(other,value) else value(other) \n",
    "        out = value(self.data*other.data,(self,other),\"*\")\n",
    "        return out \n",
    "    \n",
    "    def __rmul__(self,other):#why we're using the __rmul__ if we have __mul__ becouse rmul give us the functionality in which we can multiply 2*a{a=value(20)} where as we can't do it in mul cause the __mul__function works like a.__mul__(2) but if there is an int in first then it can't send 2.__mul__(20) so thats why\n",
    "        return self.data*other.data\n",
    "    \n",
    "    def __pow__(self,other):#now we're defining the power aka pow aka ** function\n",
    "        assert isinstance(other,(int,float)) #only support in int and float \n",
    "        out = value(self.data**other,(self,),f\"**{other}\")\n",
    "        return out \n",
    "    \n",
    "    def __truediv__(self,other):# to divide we use a clever and a very well known approach which is the \"inverse\" approach where { a/b == a*(1/b) == a*b**-1}\n",
    "        return self.data * other**-1 \n",
    "    "
   ]
  },
  {
   "cell_type": "code",
   "execution_count": 8,
   "id": "1aae11d7",
   "metadata": {},
   "outputs": [
    {
     "data": {
      "text/plain": [
       "30"
      ]
     },
     "execution_count": 8,
     "metadata": {},
     "output_type": "execute_result"
    }
   ],
   "source": [
    "a = value(30)\n",
    "a"
   ]
  },
  {
   "cell_type": "code",
   "execution_count": 9,
   "id": "2bd499f9",
   "metadata": {},
   "outputs": [
    {
     "data": {
      "text/plain": [
       "3"
      ]
     },
     "execution_count": 9,
     "metadata": {},
     "output_type": "execute_result"
    }
   ],
   "source": [
    "b= value(3)\n",
    "b"
   ]
  },
  {
   "cell_type": "code",
   "execution_count": 10,
   "id": "f61513be",
   "metadata": {},
   "outputs": [
    {
     "data": {
      "text/plain": [
       "42"
      ]
     },
     "execution_count": 10,
     "metadata": {},
     "output_type": "execute_result"
    }
   ],
   "source": [
    "# now we'll define a function on which we'll see the gradient of each object value affecting the result aka y w.r.t variables affecting it \n",
    "y = a+b*4\n",
    "y"
   ]
  },
  {
   "cell_type": "code",
   "execution_count": 11,
   "id": "4dca40b3",
   "metadata": {},
   "outputs": [
    {
     "data": {
      "text/plain": [
       "42.001000000000005"
      ]
     },
     "execution_count": 11,
     "metadata": {},
     "output_type": "execute_result"
    }
   ],
   "source": [
    "h = 0.001 # this is delta a little change which we'll see the affect on y\n",
    "y2= (a+h)+b*4\n",
    "y2"
   ]
  },
  {
   "cell_type": "code",
   "execution_count": 12,
   "id": "aa58a5db",
   "metadata": {},
   "outputs": [
    {
     "data": {
      "text/plain": [
       "-1.0000000000047748"
      ]
     },
     "execution_count": 12,
     "metadata": {},
     "output_type": "execute_result"
    }
   ],
   "source": [
    "#the formula for slope is f(x+h)-f(x)/h so\n",
    "affect_on_y_wrt_a = (y - y2)/h\n",
    "affect_on_y_wrt_a"
   ]
  },
  {
   "cell_type": "code",
   "execution_count": 19,
   "id": "fdd03360",
   "metadata": {},
   "outputs": [],
   "source": [
    "from graphviz import Digraph\n",
    "def trace(root):\n",
    "    nodes, edges = set(), set()\n",
    "    def build(v):\n",
    "        if v not in nodes:\n",
    "            nodes.add(v)\n",
    "            for child in v._prev:\n",
    "                edges.add((child, v))\n",
    "                build(child)\n",
    "    build(root)\n",
    "    return nodes, edges\n",
    "\n",
    "def draw_dot(root, format='svg', rankdir='LR'):\n",
    "    \"\"\"\n",
    "    format: png | svg | ...\n",
    "    rankdir: TB (top to bottom graph) | LR (left to right)\n",
    "    \"\"\"\n",
    "    assert rankdir in ['LR', 'TB']\n",
    "    nodes, edges = trace(root)\n",
    "    dot = Digraph(format=format, graph_attr={'rankdir': rankdir}) #, node_attr={'rankdir': 'TB'})\n",
    "    \n",
    "    for n in nodes:\n",
    "        dot.node(name=str(id(n)), label = \"{ data %.4f  }\" % (n.data), shape='record')\n",
    "        if n._op:\n",
    "            dot.node(name=str(id(n)) + n._op, label=n._op)\n",
    "            dot.edge(str(id(n)) + n._op, str(id(n)))\n",
    "    \n",
    "    for n1, n2 in edges:\n",
    "        dot.edge(str(id(n1)), str(id(n2)) + n2._op)\n",
    "    \n",
    "    return dot\n"
   ]
  },
  {
   "cell_type": "code",
   "execution_count": 20,
   "id": "0d2c1ecd",
   "metadata": {},
   "outputs": [
    {
     "data": {
      "image/svg+xml": [
       "<?xml version=\"1.0\" encoding=\"UTF-8\" standalone=\"no\"?>\n",
       "<!DOCTYPE svg PUBLIC \"-//W3C//DTD SVG 1.1//EN\"\n",
       " \"http://www.w3.org/Graphics/SVG/1.1/DTD/svg11.dtd\">\n",
       "<!-- Generated by graphviz version 2.43.0 (0)\n",
       " -->\n",
       "<!-- Title: %3 Pages: 1 -->\n",
       "<svg width=\"584pt\" height=\"127pt\"\n",
       " viewBox=\"0.00 0.00 584.00 127.00\" xmlns=\"http://www.w3.org/2000/svg\" xmlns:xlink=\"http://www.w3.org/1999/xlink\">\n",
       "<g id=\"graph0\" class=\"graph\" transform=\"scale(1 1) rotate(0) translate(4 123)\">\n",
       "<title>%3</title>\n",
       "<polygon fill=\"white\" stroke=\"transparent\" points=\"-4,4 -4,-123 580,-123 580,4 -4,4\"/>\n",
       "<!-- 140457536360160 -->\n",
       "<g id=\"node1\" class=\"node\">\n",
       "<title>140457536360160</title>\n",
       "<polygon fill=\"none\" stroke=\"black\" points=\"228,-27.5 228,-63.5 339,-63.5 339,-27.5 228,-27.5\"/>\n",
       "<text text-anchor=\"middle\" x=\"283.5\" y=\"-41.8\" font-family=\"Times,serif\" font-size=\"14.00\">data 12.0000</text>\n",
       "</g>\n",
       "<!-- 140458780229392+ -->\n",
       "<g id=\"node4\" class=\"node\">\n",
       "<title>140458780229392+</title>\n",
       "<ellipse fill=\"none\" stroke=\"black\" cx=\"402\" cy=\"-72.5\" rx=\"27\" ry=\"18\"/>\n",
       "<text text-anchor=\"middle\" x=\"402\" y=\"-68.8\" font-family=\"Times,serif\" font-size=\"14.00\">+</text>\n",
       "</g>\n",
       "<!-- 140457536360160&#45;&gt;140458780229392+ -->\n",
       "<g id=\"edge6\" class=\"edge\">\n",
       "<title>140457536360160&#45;&gt;140458780229392+</title>\n",
       "<path fill=\"none\" stroke=\"black\" d=\"M339.34,-58.21C348.57,-60.35 357.91,-62.51 366.44,-64.49\"/>\n",
       "<polygon fill=\"black\" stroke=\"black\" points=\"365.85,-67.95 376.38,-66.79 367.43,-61.13 365.85,-67.95\"/>\n",
       "</g>\n",
       "<!-- 140457536360160* -->\n",
       "<g id=\"node2\" class=\"node\">\n",
       "<title>140457536360160*</title>\n",
       "<ellipse fill=\"none\" stroke=\"black\" cx=\"165\" cy=\"-45.5\" rx=\"27\" ry=\"18\"/>\n",
       "<text text-anchor=\"middle\" x=\"165\" y=\"-41.8\" font-family=\"Times,serif\" font-size=\"14.00\">*</text>\n",
       "</g>\n",
       "<!-- 140457536360160*&#45;&gt;140457536360160 -->\n",
       "<g id=\"edge1\" class=\"edge\">\n",
       "<title>140457536360160*&#45;&gt;140457536360160</title>\n",
       "<path fill=\"none\" stroke=\"black\" d=\"M192.14,-45.5C199.85,-45.5 208.64,-45.5 217.64,-45.5\"/>\n",
       "<polygon fill=\"black\" stroke=\"black\" points=\"217.85,-49 227.85,-45.5 217.85,-42 217.85,-49\"/>\n",
       "</g>\n",
       "<!-- 140458780229392 -->\n",
       "<g id=\"node3\" class=\"node\">\n",
       "<title>140458780229392</title>\n",
       "<polygon fill=\"none\" stroke=\"black\" points=\"465,-54.5 465,-90.5 576,-90.5 576,-54.5 465,-54.5\"/>\n",
       "<text text-anchor=\"middle\" x=\"520.5\" y=\"-68.8\" font-family=\"Times,serif\" font-size=\"14.00\">data 42.0000</text>\n",
       "</g>\n",
       "<!-- 140458780229392+&#45;&gt;140458780229392 -->\n",
       "<g id=\"edge2\" class=\"edge\">\n",
       "<title>140458780229392+&#45;&gt;140458780229392</title>\n",
       "<path fill=\"none\" stroke=\"black\" d=\"M429.14,-72.5C436.85,-72.5 445.64,-72.5 454.64,-72.5\"/>\n",
       "<polygon fill=\"black\" stroke=\"black\" points=\"454.85,-76 464.85,-72.5 454.85,-69 454.85,-76\"/>\n",
       "</g>\n",
       "<!-- 140457536360784 -->\n",
       "<g id=\"node5\" class=\"node\">\n",
       "<title>140457536360784</title>\n",
       "<polygon fill=\"none\" stroke=\"black\" points=\"0,-55.5 0,-91.5 102,-91.5 102,-55.5 0,-55.5\"/>\n",
       "<text text-anchor=\"middle\" x=\"51\" y=\"-69.8\" font-family=\"Times,serif\" font-size=\"14.00\">data 3.0000</text>\n",
       "</g>\n",
       "<!-- 140457536360784&#45;&gt;140457536360160* -->\n",
       "<g id=\"edge5\" class=\"edge\">\n",
       "<title>140457536360784&#45;&gt;140457536360160*</title>\n",
       "<path fill=\"none\" stroke=\"black\" d=\"M102.1,-60.97C111.4,-58.65 120.91,-56.27 129.6,-54.1\"/>\n",
       "<polygon fill=\"black\" stroke=\"black\" points=\"130.51,-57.48 139.37,-51.66 128.82,-50.69 130.51,-57.48\"/>\n",
       "</g>\n",
       "<!-- 140457536359872 -->\n",
       "<g id=\"node6\" class=\"node\">\n",
       "<title>140457536359872</title>\n",
       "<polygon fill=\"none\" stroke=\"black\" points=\"0,-0.5 0,-36.5 102,-36.5 102,-0.5 0,-0.5\"/>\n",
       "<text text-anchor=\"middle\" x=\"51\" y=\"-14.8\" font-family=\"Times,serif\" font-size=\"14.00\">data 4.0000</text>\n",
       "</g>\n",
       "<!-- 140457536359872&#45;&gt;140457536360160* -->\n",
       "<g id=\"edge3\" class=\"edge\">\n",
       "<title>140457536359872&#45;&gt;140457536360160*</title>\n",
       "<path fill=\"none\" stroke=\"black\" d=\"M102.1,-30.58C111.4,-32.82 120.91,-35.11 129.6,-37.21\"/>\n",
       "<polygon fill=\"black\" stroke=\"black\" points=\"128.83,-40.62 139.37,-39.56 130.47,-33.82 128.83,-40.62\"/>\n",
       "</g>\n",
       "<!-- 140457536360400 -->\n",
       "<g id=\"node7\" class=\"node\">\n",
       "<title>140457536360400</title>\n",
       "<polygon fill=\"none\" stroke=\"black\" points=\"228,-82.5 228,-118.5 339,-118.5 339,-82.5 228,-82.5\"/>\n",
       "<text text-anchor=\"middle\" x=\"283.5\" y=\"-96.8\" font-family=\"Times,serif\" font-size=\"14.00\">data 30.0000</text>\n",
       "</g>\n",
       "<!-- 140457536360400&#45;&gt;140458780229392+ -->\n",
       "<g id=\"edge4\" class=\"edge\">\n",
       "<title>140457536360400&#45;&gt;140458780229392+</title>\n",
       "<path fill=\"none\" stroke=\"black\" d=\"M339.34,-87.32C348.57,-85.1 357.91,-82.86 366.44,-80.81\"/>\n",
       "<polygon fill=\"black\" stroke=\"black\" points=\"367.47,-84.16 376.38,-78.42 365.84,-77.35 367.47,-84.16\"/>\n",
       "</g>\n",
       "</g>\n",
       "</svg>\n"
      ],
      "text/plain": [
       "<graphviz.graphs.Digraph at 0x7fbed14994e0>"
      ]
     },
     "execution_count": 20,
     "metadata": {},
     "output_type": "execute_result"
    }
   ],
   "source": [
    "draw_dot(y)"
   ]
  }
 ],
 "metadata": {
  "kernelspec": {
   "display_name": "Python 3 (ipykernel)",
   "language": "python",
   "name": "python3"
  },
  "language_info": {
   "codemirror_mode": {
    "name": "ipython",
    "version": 3
   },
   "file_extension": ".py",
   "mimetype": "text/x-python",
   "name": "python",
   "nbconvert_exporter": "python",
   "pygments_lexer": "ipython3",
   "version": "3.10.12"
  }
 },
 "nbformat": 4,
 "nbformat_minor": 5
}
