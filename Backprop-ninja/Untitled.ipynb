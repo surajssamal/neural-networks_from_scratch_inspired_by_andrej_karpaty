{
 "cells": [
  {
   "cell_type": "markdown",
   "id": "948fe0e3",
   "metadata": {},
   "source": [
    "# Makemore : Becoming a backprop ninja"
   ]
  },
  {
   "cell_type": "code",
   "execution_count": 1,
   "id": "0d658bbd",
   "metadata": {},
   "outputs": [],
   "source": [
    "import torch\n",
    "import torch.nn.functional as F\n",
    "import matplotlib.pyplot as plt"
   ]
  },
  {
   "cell_type": "code",
   "execution_count": 2,
   "id": "40d0a89c",
   "metadata": {},
   "outputs": [
    {
     "name": "stdout",
     "output_type": "stream",
     "text": [
      "32033\n",
      "15\n",
      "['emma', 'olivia', 'ava', 'isabella', 'sophia']\n"
     ]
    }
   ],
   "source": [
    "#taking the dataset\n",
    "names = open(\"names.txt\",\"r\").read().splitlines()\n",
    "print(len(names))\n",
    "print(max(len(w) for w in names))\n",
    "print(names[:5])"
   ]
  },
  {
   "cell_type": "code",
   "execution_count": 3,
   "id": "55439249",
   "metadata": {},
   "outputs": [
    {
     "name": "stdout",
     "output_type": "stream",
     "text": [
      "{1: 'a', 2: 'b', 3: 'c', 4: 'd', 5: 'e', 6: 'f', 7: 'g', 8: 'h', 9: 'i', 10: 'j', 11: 'k', 12: 'l', 13: 'm', 14: 'n', 15: 'o', 16: 'p', 17: 'q', 18: 'r', 19: 's', 20: 't', 21: 'u', 22: 'v', 23: 'w', 24: 'x', 25: 'y', 26: 'z', 0: '.'} 27\n"
     ]
    }
   ],
   "source": [
    "#building the vocabulary for characters and mapping to/from integer\n",
    "chars =sorted(list((set(\"\".join(names)))))\n",
    "string_int = {s:i+1 for i,s in enumerate(chars)}\n",
    "string_int[\".\"]=0\n",
    "int_string = {i:s for s,i in string_int.items()}\n",
    "vocab_size = len(int_string)\n",
    "print(int_string,vocab_size)"
   ]
  },
  {
   "cell_type": "code",
   "execution_count": 4,
   "id": "6b1a9264",
   "metadata": {},
   "outputs": [
    {
     "name": "stdout",
     "output_type": "stream",
     "text": [
      "torch.Size([182408, 3]) torch.Size([182408])\n",
      "torch.Size([22794, 3]) torch.Size([22794])\n",
      "torch.Size([205202, 3]) torch.Size([205202])\n"
     ]
    }
   ],
   "source": [
    "# building the data\n",
    "block_size = 3\n",
    "def building_dataset(names):\n",
    "    x,y=[],[]\n",
    "    for name in names:\n",
    "        context =[0]*block_size\n",
    "        for ch in name+\".\":\n",
    "            ix = string_int[ch]\n",
    "            x.append(context)\n",
    "            y.append(ix)\n",
    "            context = context[1:]+[ix]\n",
    "    x,y =torch.tensor(x),torch.tensor(y)\n",
    "    print(x.shape,y.shape)\n",
    "    return x,y\n",
    "import random \n",
    "random.seed(32)\n",
    "random.shuffle(names)\n",
    "n1 = int(0.8*len(names))\n",
    "n2 = int(0.9*len(names))\n",
    "xtr ,ytr = building_dataset(names[:n1])#80% of traning data\n",
    "xdev,ydev=building_dataset(names[n1:n2])\n",
    "xte,yte=building_dataset(names[:n2])"
   ]
  },
  {
   "cell_type": "code",
   "execution_count": 5,
   "id": "dcc6b7c9",
   "metadata": {},
   "outputs": [],
   "source": [
    "#Now the boilerplate is done lets get to the action"
   ]
  },
  {
   "cell_type": "code",
   "execution_count": 6,
   "id": "d308b1d4",
   "metadata": {},
   "outputs": [
    {
     "name": "stdout",
     "output_type": "stream",
     "text": [
      "4137\n"
     ]
    }
   ],
   "source": [
    "n_embd =10\n",
    "n_hidden =64\n",
    "g= torch.Generator().manual_seed(2139344)\n",
    "C = torch.randn((vocab_size,n_embd),generator=g)\n",
    "#Layer 1\n",
    "w1 = torch.randn((n_embd*block_size,n_hidden),generator=g)*(5/3)/((n_embd*block_size)**0.5)\n",
    "b1 = torch.randn(n_hidden,generator=g)\n",
    "#Layer 2 \n",
    "w2 = torch.randn((n_hidden,vocab_size),generator=g)*0.1\n",
    "b2 = torch.randn(vocab_size,generator=g)*0.1\n",
    "#BatchNorm parameters\n",
    "bngain= torch.randn((1,n_hidden))*0.1+1.0\n",
    "bnbias = torch.randn((1,n_hidden))*0.1\n",
    "\n",
    "#Note: I am initializating many of these parameters in non-standard ways\n",
    "#because sometimes initialization with e.g all zeros could mask an incorrect \n",
    "#implimentation of the backward pass\n",
    "\n",
    "parameters = [C,w1,b1,w2,b2,bngain,bnbias]\n",
    "print(sum(p.nelement() for p in parameters))#no of parameters in total\n",
    "for p in parameters:\n",
    "    p.requires_grad=True"
   ]
  },
  {
   "cell_type": "code",
   "execution_count": 7,
   "id": "3649fbf6",
   "metadata": {},
   "outputs": [],
   "source": [
    "batch_size =32\n",
    "n= batch_size# a shorter  variable also ,for convineience \n",
    "#construct a mini batch\n",
    "ix = torch.randint(0,xtr.shape[0],(batch_size,),generator=g)\n",
    "xb,yb =xtr[ix],ytr[ix] #batch x,y"
   ]
  },
  {
   "cell_type": "code",
   "execution_count": 8,
   "id": "e962a546",
   "metadata": {},
   "outputs": [
    {
     "data": {
      "text/plain": [
       "tensor(3.3135, grad_fn=<NegBackward0>)"
      ]
     },
     "execution_count": 8,
     "metadata": {},
     "output_type": "execute_result"
    }
   ],
   "source": [
    "#forward pass but more expanded \n",
    "emb =C[xb]\n",
    "embcat = emb.view(emb.shape[0],n_embd*block_size)#concatinate the vector\n",
    "#Linear layer\n",
    "hprebn = embcat@w1+b1\n",
    "#BatchNorm layer\n",
    "bnmeani = 1/n*hprebn.sum(0,keepdim=True)\n",
    "bndiff=hprebn-bnmeani #taking the mean - value\n",
    "bndiff2 = bndiff**2 \n",
    "bnvariance = 1/(n-1)*(bndiff2).sum(0,keepdim=True) #note :in basic standard deviation we use ((mean-x)^2/n)but Bessel's correction(dividing by n-1,not n)\n",
    "bnvariance_inv = (bnvariance +1e-5)**-0.5\n",
    "bnraw =bndiff*bnvariance_inv\n",
    "hpreact= bngain*bnraw+bnbias\n",
    "\n",
    "#Non linearity\n",
    "h = torch.tanh(hpreact)\n",
    "#Linear layer 2\n",
    "logits = h@w2+b2\n",
    "#cross entrophy loss (same as F.cross_entrophy(logits,yb)  but in more open)\n",
    "logit_maxes = logits.max(1,keepdim=True).values\n",
    "norm_logits = logits-logit_maxes # subtract max for numerical stability\n",
    "counts = norm_logits.exp()\n",
    "counts_sum=counts.sum(1,keepdims=True)\n",
    "counts_sum_inv = counts_sum**-1 # if i use (1/counts_sum) instead then i can't get backprop to be bit exact\n",
    "probs=counts*counts_sum_inv\n",
    "probs=counts*counts_sum_inv\n",
    "logprobs = probs.log()\n",
    "loss = -logprobs[range(n),yb].mean()\n",
    "#pytorch backward pass\n",
    "for p in parameters:\n",
    "    p.grad =None\n",
    "for t in [logprobs,probs,counts,counts_sum,counts_sum_inv,norm_logits,logit_maxes,logits,h,hpreact,bnraw,bnvariance_inv,\n",
    "         bnvariance,bndiff2,bndiff,hprebn,hprebn,bnmeani,embcat,emb]:\n",
    "    t.retain_grad()\n",
    "loss.backward()\n",
    "loss"
   ]
  },
  {
   "cell_type": "code",
   "execution_count": 9,
   "id": "334e1c34",
   "metadata": {},
   "outputs": [],
   "source": [
    "#utility function we will use later when comparing manual gradiet to pytoarch gradient \n",
    "def cmp(s,dt,t):\n",
    "    ex = torch.all(dt == t.grad).item()\n",
    "    app = torch.allclose(dt,t.grad)\n",
    "    maxdiff = (dt-t.grad).abs().max().item()\n",
    "    print(f\"{s:15s} | exact:{str(ex):5s} | approximate : {str(app):5s} | maxdiff: {maxdiff}\")"
   ]
  },
  {
   "cell_type": "code",
   "execution_count": 16,
   "id": "4602694c",
   "metadata": {},
   "outputs": [
    {
     "name": "stdout",
     "output_type": "stream",
     "text": [
      "logprobs        | exact:True  | approximate : True  | maxdiff: 0.0\n",
      "dprobs          | exact:True  | approximate : True  | maxdiff: 0.0\n",
      "count_sum_inv   | exact:True  | approximate : True  | maxdiff: 0.0\n",
      "counts          | exact:False | approximate : False | maxdiff: 0.004510226659476757\n",
      "count_sum       | exact:True  | approximate : True  | maxdiff: 0.0\n",
      "counts          | exact:True  | approximate : True  | maxdiff: 0.0\n",
      "norm_logits     | exact:True  | approximate : True  | maxdiff: 0.0\n",
      "logits          | exact:False | approximate : True  | maxdiff: 4.6566128730773926e-09\n",
      "dlogit_max      | exact:True  | approximate : True  | maxdiff: 0.0\n",
      "logits          | exact:True  | approximate : True  | maxdiff: 0.0\n",
      "h               | exact:True  | approximate : True  | maxdiff: 0.0\n",
      "w2              | exact:True  | approximate : True  | maxdiff: 0.0\n",
      "b2              | exact:True  | approximate : True  | maxdiff: 0.0\n",
      "hpreact         | exact:False | approximate : True  | maxdiff: 4.656612873077393e-10\n",
      "gain            | exact:False | approximate : False | maxdiff: 1.270287275314331\n",
      "bnbias          | exact:False | approximate : False | maxdiff: 3.0987002849578857\n",
      "bnbias          | exact:False | approximate : False | maxdiff: 0.2757781147956848\n",
      "bndiff          | exact:False | approximate : False | maxdiff: 0.00106023158878088\n",
      "bnvariance_inv  | exact:False | approximate : True  | maxdiff: 3.725290298461914e-09\n",
      "bnvariance      | exact:False | approximate : True  | maxdiff: 4.656612873077393e-10\n",
      "bndiff2         | exact:False | approximate : True  | maxdiff: 1.4551915228366852e-11\n",
      "bndiff          | exact:False | approximate : True  | maxdiff: 4.656612873077393e-10\n",
      "hprebn          | exact:False | approximate : False | maxdiff: 0.0007247008616104722\n",
      "bnmeani         | exact:False | approximate : True  | maxdiff: 1.862645149230957e-09\n",
      "hprebn          | exact:False | approximate : True  | maxdiff: 4.656612873077393e-10\n",
      "embcat          | exact:False | approximate : True  | maxdiff: 1.3969838619232178e-09\n",
      "w1              | exact:False | approximate : True  | maxdiff: 3.725290298461914e-09\n",
      "b1              | exact:False | approximate : True  | maxdiff: 1.3969838619232178e-09\n",
      "emb             | exact:False | approximate : True  | maxdiff: 1.3969838619232178e-09\n",
      "C               | exact:False | approximate : True  | maxdiff: 5.587935447692871e-09\n"
     ]
    }
   ],
   "source": [
    "#Excerise 1 : we have to do the dy/dx for each of the loss wrt each of the thing which happen\n",
    "# for loss wrt logprobs the dloss/dlogprob is -1/n so \n",
    "dlogprobs = torch.zeros_like((logprobs))\n",
    "dlogprobs[range(n),yb] = -1/n\n",
    "cmp(\"logprobs\",dlogprobs,logprobs)\n",
    "#wrt probs \n",
    "dprobs = 1/probs*dlogprobs\n",
    "cmp(\"dprobs\",dprobs,probs)\n",
    "#wrt count_sum_inv \n",
    "dcountsum_inv = (counts*dprobs).sum(1,keepdims=True)\n",
    "cmp(\"count_sum_inv\",dcountsum_inv,counts_sum_inv)\n",
    "#wrt counts\n",
    "dcounts = counts_sum_inv*dprobs\n",
    "cmp(\"counts\",dcounts,counts) #there is a reason output is false because the counts is depending in more places and then added up but we'll come to that later\n",
    "#wrt count_sum**\n",
    "dcount_sum = -(1/counts_sum**2)*dcountsum_inv\n",
    "cmp(\"count_sum\",dcount_sum,counts_sum)\n",
    "#wrt wrt counts\n",
    "dcounts += torch.ones_like(counts)*dcount_sum # i did the += because i want it to add with the previous counts which was false\n",
    "cmp(\"counts\",dcounts,counts) # as we can see its true now\n",
    "#wrt norm_logits\n",
    "dnorm_logits = norm_logits.exp()*dcounts\n",
    "cmp(\"norm_logits\",dnorm_logits,norm_logits)\n",
    "#wrt logit maxes \n",
    "dlogits = dnorm_logits.clone()\n",
    "cmp(\"logits\",dlogits,logits)# the reason it is false because it is dependent in more than one place\n",
    "dlogit_max = (-dnorm_logits).sum(1,keepdims=True)\n",
    "cmp(\"dlogit_max\",dlogit_max,logit_maxes)\n",
    "#wrt logits\n",
    "dlogits += F.one_hot(logits.max(1).indices,num_classes=logits.shape[1])*dlogit_max\n",
    "cmp(\"logits\",dlogits,logits)\n",
    "#wrt h\n",
    "dh = dlogits @ w2.T\n",
    "cmp(\"h\",dh,h)\n",
    "#wrt w2\n",
    "dw2 =h.T @ dlogits \n",
    "cmp(\"w2\",dw2,w2)\n",
    "#wrt b2\n",
    "db2 = dlogits.sum(0)\n",
    "cmp(\"b2\",db2,b2)\n",
    "#wrt hpreact\n",
    "dhpreact = (1.0 - h**2)*dh\n",
    "cmp(\"hpreact\",dhpreact,hpreact)\n",
    "#wrt bngain\n",
    "dbngain = (bnraw*dhpreact).sum(0,keepdims=True)\n",
    "cmp(\"gain\",bngain,bngain)\n",
    "#wrt bnraw\n",
    "dbnraw = (bngain*dhpreact)\n",
    "cmp(\"bnbias\",bnraw,bnraw)\n",
    "#wrt bnbias\n",
    "dbnbias = dhpreact.sum(0,keepdims=True)\n",
    "cmp(\"bnbias\",bnbias,bnbias)\n",
    "#wrt bndiff\n",
    "dbndiff = bnvariance_inv*dbnraw\n",
    "cmp(\"bndiff\",dbndiff,bndiff)\n",
    "#wrt bnvariance\n",
    "dbnvariance_inv = (bndiff*dbnraw).sum(0,keepdims=True)\n",
    "cmp(\"bnvariance_inv\",dbnvariance_inv,bnvariance_inv)\n",
    "#wrt bnvariance\n",
    "dbnvariance = (-0.5*(bnvariance +1e-5)**-1.5)*dbnvariance_inv\n",
    "cmp(\"bnvariance\",dbnvariance,bnvariance)\n",
    "#wrt bndiff2 \n",
    "dbndiff2 = (1.0/(n-1))*torch.ones_like(bndiff2)*dbnvariance\n",
    "cmp(\"bndiff2\",dbndiff2,bndiff2)\n",
    "#wrt bndiff\n",
    "dbndiff += (2*bndiff)*dbndiff2\n",
    "cmp(\"bndiff\",dbndiff,bndiff)\n",
    "#wrt hprebn\n",
    "dhprebn = dbndiff.clone()\n",
    "cmp(\"hprebn\",dhprebn,hprebn)\n",
    "#wrt dbnmeani\n",
    "dbnmeani =(-torch.ones_like(bndiff)*dbndiff).sum(0,keepdims=True)\n",
    "cmp(\"bnmeani\",dbnmeani,bnmeani)\n",
    "#wrt hprebn\n",
    "dhprebn += 1.0/n*(torch.ones_like(hprebn)*dbnmeani)\n",
    "cmp(\"hprebn\",dhprebn,hprebn)\n",
    "#wrt emcat\n",
    "dembcat = dhprebn @w1.T\n",
    "cmp(\"embcat\",dembcat,embcat)\n",
    "#wrt w1\n",
    "dw1 = embcat.T@dhprebn \n",
    "cmp(\"w1\",dw1,w1)\n",
    "#wrt b1\n",
    "db1 =  dhprebn.sum(0)\n",
    "cmp(\"b1\",db1,b1)\n",
    "#wrt emb\n",
    "demb = dembcat.view(emb.shape)\n",
    "cmp(\"emb\",demb,emb)\n",
    "#wrt C\n",
    "dC = torch.zeros_like(C)\n",
    "for k in range(xb.shape[0]):\n",
    "    for j in range(xb.shape[1]):\n",
    "        ix = xb[k,j]\n",
    "        dC[ix] += demb[k,j]\n",
    "cmp(\"C\",dC,C)"
   ]
  },
  {
   "cell_type": "code",
   "execution_count": null,
   "id": "1edff37b",
   "metadata": {},
   "outputs": [],
   "source": [
    "#Exercise 2 in this we'll have to do the dloss/dlogits directly withoud using all those elements we were using \n"
   ]
  },
  {
   "cell_type": "code",
   "execution_count": null,
   "id": "e3edb422",
   "metadata": {},
   "outputs": [],
   "source": []
  }
 ],
 "metadata": {
  "kernelspec": {
   "display_name": "Python 3 (ipykernel)",
   "language": "python",
   "name": "python3"
  },
  "language_info": {
   "codemirror_mode": {
    "name": "ipython",
    "version": 3
   },
   "file_extension": ".py",
   "mimetype": "text/x-python",
   "name": "python",
   "nbconvert_exporter": "python",
   "pygments_lexer": "ipython3",
   "version": "3.10.12"
  }
 },
 "nbformat": 4,
 "nbformat_minor": 5
}
